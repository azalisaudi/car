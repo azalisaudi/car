{
 "cells": [
  {
   "cell_type": "code",
   "execution_count": 1,
   "id": "6106f7b3",
   "metadata": {},
   "outputs": [
    {
     "name": "stdout",
     "output_type": "stream",
     "text": [
      "Defaulting to user installation because normal site-packages is not writeable\n",
      "Requirement already satisfied: imutils in /home/azali/.local/lib/python3.6/site-packages (0.5.4)\n",
      "Requirement already satisfied: opencv-python in /home/azali/.local/lib/python3.6/site-packages (4.6.0.66)\n",
      "Requirement already satisfied: numpy>=1.13.3 in /home/azali/.local/lib/python3.6/site-packages (from opencv-python) (1.19.5)\n",
      "Note: you may need to restart the kernel to use updated packages.\n"
     ]
    }
   ],
   "source": [
    "pip install imutils opencv-python"
   ]
  },
  {
   "cell_type": "code",
   "execution_count": 2,
   "id": "e01d0f2b",
   "metadata": {},
   "outputs": [
    {
     "name": "stdout",
     "output_type": "stream",
     "text": [
      "[INFO] importing libraries\n"
     ]
    }
   ],
   "source": [
    "# import the necessary packages\n",
    "from imutils import paths\n",
    "import numpy as np\n",
    "import imutils\n",
    "import cv2\n",
    "import os\n",
    "from sklearn import preprocessing\n",
    "\n",
    "print('[INFO] importing libraries')"
   ]
  },
  {
   "cell_type": "code",
   "execution_count": 3,
   "id": "5960a847",
   "metadata": {},
   "outputs": [
    {
     "name": "stdout",
     "output_type": "stream",
     "text": [
      "[INFO] declaring function to resize image\n"
     ]
    }
   ],
   "source": [
    "CAR_LABELS = [\n",
    "    'Audi', \n",
    "    'Hyundai Creta', \n",
    "    'Mahindra Scorpio', \n",
    "    'Rolls Royce', \n",
    "    'Swift', \n",
    "    'Tata Safari', \n",
    "    'Toyota Innova']\n",
    "\n",
    "le = preprocessing.LabelEncoder()\n",
    "\n",
    "def image_to_feature_vector(image, size=(32, 32)):\n",
    "    # resize the image to a fixed size, then flatten the image\n",
    "    return cv2.resize(image, size).flatten()\n",
    "\n",
    "print('[INFO] declaring function to resize image')"
   ]
  },
  {
   "cell_type": "code",
   "execution_count": 4,
   "id": "f1b8b154",
   "metadata": {},
   "outputs": [
    {
     "name": "stdout",
     "output_type": "stream",
     "text": [
      "[INFO] train data processed 0/3352\n",
      "[INFO] train data processed 1000/3352\n",
      "[INFO] train data processed 2000/3352\n",
      "[INFO] train data processed 3000/3352\n"
     ]
    }
   ],
   "source": [
    "# loop over the training images\n",
    "train_Images = []\n",
    "train_Labels = []\n",
    "imagePaths = list(paths.list_images(\"images/train\"))\n",
    "for (i, imagePath) in enumerate(imagePaths):\n",
    "    image = cv2.imread(imagePath)\n",
    "    label = os.path.basename(os.path.dirname(imagePath))\n",
    "\n",
    "    pixels = image_to_feature_vector(image)\n",
    "\n",
    "    train_Images.append(pixels)\n",
    "    train_Labels.append(label)\n",
    "\n",
    "    if(i % 1000 == 0):\n",
    "        print(\"[INFO] train data processed {}/{}\".format(i, len(imagePaths)))\n",
    "        \n",
    "X_train = np.array(train_Images)\n",
    "y_train = np.asarray(train_Labels)"
   ]
  },
  {
   "cell_type": "code",
   "execution_count": 5,
   "id": "ec65063a",
   "metadata": {},
   "outputs": [
    {
     "name": "stdout",
     "output_type": "stream",
     "text": [
      "[INFO] loop testing images\n"
     ]
    }
   ],
   "source": [
    "# loop over the testing images\n",
    "test_Images = []\n",
    "test_Labels = []\n",
    "imagePaths = list(paths.list_images(\"images/test\"))\n",
    "for (i, imagePath) in enumerate(imagePaths):\n",
    "    image = cv2.imread(imagePath)\n",
    "    label = os.path.basename(os.path.dirname(imagePath))\n",
    "\n",
    "    pixels = image_to_feature_vector(image)\n",
    "\n",
    "    test_Images.append(pixels)\n",
    "    test_Labels.append(label)\n",
    "\n",
    "\n",
    "X_test = np.array(test_Images)\n",
    "y_test = np.asarray(test_Labels)\n",
    "\n",
    "print('[INFO] loop testing images')"
   ]
  },
  {
   "cell_type": "code",
   "execution_count": null,
   "id": "7c927df4",
   "metadata": {},
   "outputs": [],
   "source": [
    "from sklearn.linear_model import SGDClassifier\n",
    "model = SGDClassifier(random_state=12)\n",
    "model.fit(X_train, y_train)\n",
    "acc = model.score(X_test, y_test)\n",
    "\n",
    "print(\"[INFO] SGD accuracy: {:.2f}%\".format(acc * 100))"
   ]
  }
 ],
 "metadata": {
  "kernelspec": {
   "display_name": "Python 3",
   "language": "python",
   "name": "python3"
  },
  "language_info": {
   "codemirror_mode": {
    "name": "ipython",
    "version": 3
   },
   "file_extension": ".py",
   "mimetype": "text/x-python",
   "name": "python",
   "nbconvert_exporter": "python",
   "pygments_lexer": "ipython3",
   "version": "3.6.9"
  }
 },
 "nbformat": 4,
 "nbformat_minor": 5
}
